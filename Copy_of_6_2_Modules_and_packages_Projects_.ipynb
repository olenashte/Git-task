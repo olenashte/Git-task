{
  "nbformat": 4,
  "nbformat_minor": 0,
  "metadata": {
    "colab": {
      "provenance": [],
      "authorship_tag": "ABX9TyPhy+DICO2/Y/RlcT2G/L0V",
      "include_colab_link": true
    },
    "kernelspec": {
      "name": "python3",
      "display_name": "Python 3"
    },
    "language_info": {
      "name": "python"
    }
  },
  "cells": [
    {
      "cell_type": "markdown",
      "metadata": {
        "id": "view-in-github",
        "colab_type": "text"
      },
      "source": [
        "<a href=\"https://colab.research.google.com/github/olenashte/Git-task/blob/master/Copy_of_6_2_Modules_and_packages_Projects_.ipynb\" target=\"_parent\"><img src=\"https://colab.research.google.com/assets/colab-badge.svg\" alt=\"Open In Colab\"/></a>"
      ]
    },
    {
      "cell_type": "code",
      "execution_count": null,
      "metadata": {
        "colab": {
          "base_uri": "https://localhost:8080/"
        },
        "id": "wPOujRFnylnz",
        "outputId": "cd352b33-de67-4a0b-edea-eb9c639562df"
      },
      "outputs": [
        {
          "output_type": "stream",
          "name": "stdout",
          "text": [
            "Displaying customer receipt...\n"
          ]
        }
      ],
      "source": [
        "#1\n",
        "def is_admin(func):\n",
        "    def wrapper(*args, **kwargs):\n",
        "        user_type = kwargs.get('user_type', None)\n",
        "\n",
        "\n",
        "        if user_type != 'admin':\n",
        "          raise ValueError(\"Permission denied\")\n",
        "        return func(*args, **kwargs)\n",
        "\n",
        "    return wrapper\n",
        "\n",
        "@is_admin\n",
        "def show_customer_receipt(user_type: str):\n",
        "    print(\"Displaying customer receipt...\")\n",
        "\n",
        "show_customer_receipt(user_type='admin')\n"
      ]
    },
    {
      "cell_type": "code",
      "source": [
        "#2\n",
        "def catch_errors(func):\n",
        "    def wrapper(*args, **kwargs):\n",
        "        try:\n",
        "            return func(*args, **kwargs)\n",
        "        except Exception as e:\n",
        "            print(f\"Found 1 error during execution of your function: {type(e).__name__} {e}\")\n",
        "\n",
        "    return wrapper\n",
        "\n",
        "\n",
        "@catch_errors\n",
        "def some_function_with_risky_operation(data):\n",
        "\n",
        "    print(data['key'])\n",
        "\n",
        "\n",
        "some_function_with_risky_operation({'foo': 'bar'})\n"
      ],
      "metadata": {
        "colab": {
          "base_uri": "https://localhost:8080/"
        },
        "id": "a3dpPjtK2o9-",
        "outputId": "0bc42764-1a42-448f-828a-1c97ea751ac9"
      },
      "execution_count": null,
      "outputs": [
        {
          "output_type": "stream",
          "name": "stdout",
          "text": [
            "Found 1 error during execution of your function: KeyError 'key'\n"
          ]
        }
      ]
    },
    {
      "cell_type": "code",
      "source": [
        "# 4 Optional\n",
        "def cache_function(func):\n",
        "    cache = {}\n",
        "\n",
        "    def wrapper(arg):\n",
        "\n",
        "        if arg in cache:\n",
        "            print(f\"Returning cached result for {arg}\")\n",
        "            return cache[arg]\n",
        "\n",
        "\n",
        "        result = func(arg)\n",
        "        cache[arg] = result\n",
        "        return result\n",
        "\n",
        "    return wrapper\n",
        "\n",
        "\n",
        "@cache_function\n",
        "def slow_function(x):\n",
        "\n",
        "    print(f\"Computing result for {x}\")\n",
        "    return x * 2\n",
        "\n",
        "\n",
        "print(slow_function(5))\n",
        "print(slow_function(5))\n",
        "print(slow_function(10))\n"
      ],
      "metadata": {
        "id": "iq1tZavqvs-R"
      },
      "execution_count": null,
      "outputs": []
    },
    {
      "cell_type": "code",
      "source": [
        "#5 Optional\n",
        "import time\n",
        "\n",
        "def rate_limiter(max_calls_per_minute):\n",
        "\n",
        "    def decorator(func):\n",
        "        calls = []\n",
        "\n",
        "        def wrapper(*args, **kwargs):\n",
        "            current_time = time.time()\n",
        "\n",
        "            while calls and current_time - calls[0] > 60:\n",
        "                calls.pop(0)\n",
        "\n",
        "            if len(calls) < max_calls_per_minute:\n",
        "                calls.append(current_time)\n",
        "                return func(*args, **kwargs)\n",
        "            else:\n",
        "              print(\"Rate limit exceeded. Try again later.\")\n",
        "\n",
        "        return wrapper\n",
        "\n",
        "    return decorator\n",
        "\n",
        "\n",
        "@rate_limiter(3)\n",
        "def my_function():\n",
        "    print(\"Function called!\")\n",
        "\n",
        "\n",
        "my_function()\n",
        "my_function()\n",
        "my_function()\n",
        "my_function()\n"
      ],
      "metadata": {
        "colab": {
          "base_uri": "https://localhost:8080/"
        },
        "id": "IAVG8cH44dbw",
        "outputId": "d7737d88-e0e2-437b-99f5-3df926894465"
      },
      "execution_count": null,
      "outputs": [
        {
          "output_type": "stream",
          "name": "stdout",
          "text": [
            "Function called!\n",
            "Function called!\n",
            "Function called!\n",
            "Rate limit exceeded. Try again later.\n"
          ]
        }
      ]
    },
    {
      "cell_type": "code",
      "source": [],
      "metadata": {
        "id": "vF3FlJMB4h5C"
      },
      "execution_count": null,
      "outputs": []
    }
  ]
}