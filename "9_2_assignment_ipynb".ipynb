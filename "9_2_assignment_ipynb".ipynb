{
  "cells": [
    {
      "cell_type": "markdown",
      "metadata": {
        "id": "view-in-github",
        "colab_type": "text"
      },
      "source": [
        "<a href=\"https://colab.research.google.com/github/olenashte/Git-task/blob/master/%229_2_assignment_ipynb%22.ipynb\" target=\"_parent\"><img src=\"https://colab.research.google.com/assets/colab-badge.svg\" alt=\"Open In Colab\"/></a>"
      ]
    },
    {
      "cell_type": "markdown",
      "metadata": {
        "id": "oY7M_WqQy7zz"
      },
      "source": [
        "# Assignment 9.2\n",
        "\n",
        "> Replace all TODOs with your code. Do not change any other code."
      ]
    },
    {
      "cell_type": "code",
      "execution_count": 1,
      "metadata": {
        "id": "mnm_mM7I9Xx0"
      },
      "outputs": [],
      "source": [
        "# Do not edit this cell\n",
        "\n",
        "from typing import List"
      ]
    },
    {
      "cell_type": "markdown",
      "metadata": {
        "id": "Jz8SYjAz0N8D"
      },
      "source": [
        "## Descriptive statistics\n",
        "\n",
        "In this assignment, we will write the functions to calculate the basic statistics from scratch, not using numpy."
      ]
    },
    {
      "cell_type": "markdown",
      "metadata": {
        "id": "IHwd1Zzby7z1"
      },
      "source": [
        "### Task 1\n",
        "\n",
        "Let's start simple: write a function `mean` that calculates the average of the list.\n",
        "\n",
        "$$\\mu = \\frac{{\\sum_{i=1}^n x_i}}{{n}}$$"
      ]
    },
    {
      "cell_type": "code",
      "execution_count": 5,
      "metadata": {
        "id": "UfB0dnXHy7z2",
        "tags": [
          "task_1"
        ]
      },
      "outputs": [],
      "source": [
        "def mean(li: List[float]) -> float:\n",
        "    if len(li) == 0:\n",
        "        raise ValueError(\"The list can't be empty!\")\n",
        "    return sum(li) / len(li)\n",
        "\n",
        "\n",
        "assert mean([1., 2., 3.]) == 2.\n",
        "assert mean([1., 1., 2., 0.]) == 1."
      ]
    },
    {
      "cell_type": "markdown",
      "metadata": {
        "id": "lL-ELM-Ay7z2"
      },
      "source": [
        "### Task 2\n",
        "\n",
        "Now let's calculate variance (dispersion). You may use the `mean` function implemented before.\n",
        "\n",
        "$$V = \\frac{{\\sum_{i=1}^n (x_i - \\mu)^2}}{{n}}$$"
      ]
    },
    {
      "cell_type": "code",
      "execution_count": 7,
      "metadata": {
        "id": "cibiSsjry7z3",
        "tags": [
          "task_2"
        ]
      },
      "outputs": [],
      "source": [
        "def variance(li: List[float]) -> float:\n",
        "    if len(li) == 0:\n",
        "        raise ValueError(\"The list can't be empty!\")\n",
        "\n",
        "    mu = mean(li)\n",
        "\n",
        "    squared_differences = [(x - mu) ** 2 for x in li]\n",
        "\n",
        "    return sum(squared_differences) / len(li)\n",
        "\n",
        "\n",
        "assert variance([1., 1., 1.]) == 0.\n",
        "assert variance([1., 2., 3., 4.]) == 1.25"
      ]
    },
    {
      "cell_type": "markdown",
      "metadata": {
        "id": "YSAUJe1u9XyM"
      },
      "source": [
        "### Task 3\n",
        "\n",
        "The standard deviation is easy once you get the variance:\n",
        "\n",
        "$$\\sigma = \\sqrt{V}$$"
      ]
    },
    {
      "cell_type": "code",
      "execution_count": 8,
      "metadata": {
        "tags": [
          "task_3"
        ],
        "id": "8cr3iHPR9XyO"
      },
      "outputs": [],
      "source": [
        "def std(li: List[float]) -> float:\n",
        "    return variance(li) ** 0.5\n",
        "\n",
        "\n",
        "assert std([1., 1., 1.]) == 0.\n",
        "assert std([1., 2., 3., 4.]) == 1.25**0.5"
      ]
    },
    {
      "cell_type": "markdown",
      "metadata": {
        "id": "2I481Gkj9XyR"
      },
      "source": [
        "### Task 4\n",
        "\n",
        "**Median**\n",
        "\n",
        "The median is the middle value in a sorted dataset. If the dataset has an odd number of values, the median is the value at the center. If the dataset has an even number of values, the median is the average of the two middle values."
      ]
    },
    {
      "cell_type": "code",
      "execution_count": 9,
      "metadata": {
        "tags": [
          "task_4"
        ],
        "id": "0BEoTR119XyT"
      },
      "outputs": [],
      "source": [
        "def median(li: List[float]) -> float:\n",
        "    sorted_li = sorted(li)\n",
        "    n = len(sorted_li)\n",
        "\n",
        "    if n == 0:\n",
        "        raise ValueError(\"List cannot be empty!\")\n",
        "\n",
        "    if n % 2 == 1:\n",
        "        return sorted_li[n // 2]\n",
        "\n",
        "    else:\n",
        "        mid1 = sorted_li[n // 2 - 1]\n",
        "        mid2 = sorted_li[n // 2]\n",
        "        return (mid1 + mid2) / 2\n",
        "\n",
        "\n",
        "\n",
        "assert median([1., 1., 1.]) == 1.\n",
        "assert median([1., 4., 3., 2.]) == 2.5"
      ]
    },
    {
      "cell_type": "markdown",
      "metadata": {
        "id": "5DzFkKwx0VI5"
      },
      "source": [
        "## Measure performance\n",
        "\n",
        "Sometimes, apart from theoretical, algorithmic complexity, it's a good idea to compare the runtime of two algorithms empirically, i.e., run the code many times and time it.\n",
        "\n",
        "In Python's standard library, we have [timeit](https://docs.python.org/3/library/timeit.html) module that does exactly that.\n",
        "\n",
        "Let's compare the runtime of your implementations and numpy. Use the provided setup code:"
      ]
    },
    {
      "cell_type": "code",
      "execution_count": 14,
      "metadata": {
        "id": "wlNX3Jyz9XyV",
        "colab": {
          "base_uri": "https://localhost:8080/"
        },
        "outputId": "033d09ca-0a33-4926-9c0b-6c417bf59da7"
      },
      "outputs": [
        {
          "output_type": "stream",
          "name": "stdout",
          "text": [
            "Performance Comparison:\n",
            "mean           : 0.000509 seconds\n",
            "variance       : 0.015363 seconds\n",
            "std            : 0.015712 seconds\n",
            "median         : 0.021615 seconds\n",
            "numpy_mean     : 0.001297 seconds\n",
            "numpy_var      : 0.003516 seconds\n",
            "numpy_std      : 0.000754 seconds\n",
            "numpy_median   : 0.009925 seconds\n"
          ]
        }
      ],
      "source": [
        "import timeit\n",
        "setup = '''\n",
        "import random\n",
        "import numpy as np\n",
        "\n",
        "\n",
        "arr = np.random.rand(10_000) * 100  # NumPy array\n",
        "li = [random.random() * 100 for _ in range(10_000)]  # Python list\n",
        "from __main__ import mean, variance, std, median\n",
        "'''\n",
        "\n",
        "# Functions to compare\n",
        "funcs = {\n",
        "    'mean': 'mean(li)',\n",
        "    'variance': 'variance(li)',\n",
        "    'std': 'std(li)',\n",
        "    'median': 'median(li)',\n",
        "    'numpy_mean': 'np.mean(arr)',\n",
        "    'numpy_var': 'np.var(arr)',\n",
        "    'numpy_std': 'np.std(arr)',\n",
        "    'numpy_median': 'np.median(arr)',\n",
        "}\n",
        "\n",
        "# Measure execution time\n",
        "print(\"Performance Comparison:\")\n",
        "for name, stmt in funcs.items():\n",
        "    time = timeit.timeit(stmt, setup=setup, number=10)\n",
        "    print(f\"{name:15}: {time:.6f} seconds\")"
      ]
    },
    {
      "cell_type": "markdown",
      "metadata": {
        "id": "nP0LlORsy7z4"
      },
      "source": [
        "### Task 5\n",
        "\n",
        "Complete Python statements to compare your functions to numpy. Use `li` for your function and `arr` for numpy functions."
      ]
    },
    {
      "cell_type": "code",
      "execution_count": 16,
      "metadata": {
        "id": "RiIm_kUSy7z4",
        "tags": [
          "task_5"
        ]
      },
      "outputs": [],
      "source": [
        "stmt_mean_custom = 'mean(li)'\n",
        "stmt_mean_np = 'np.mean(arr)'\n",
        "\n",
        "stmt_var_custom = 'variance(li)'\n",
        "stmt_var_np = 'np.var(arr)'\n",
        "\n",
        "stmt_std_custom = 'std(li)'\n",
        "stmt_std_np = 'np.std(arr)'\n",
        "\n",
        "stmt_median_custom = 'median(li)'\n",
        "stmt_median_np = 'np.median(arr)'\n"
      ]
    },
    {
      "cell_type": "markdown",
      "metadata": {
        "id": "hU1yDEnzy7z4"
      },
      "source": [
        "### Task 6\n",
        "\n",
        "Measure average exec time of your statements with `timeit` module. As your submission, fill out the table with results (rounded to 2 decimal places)"
      ]
    },
    {
      "cell_type": "code",
      "execution_count": 18,
      "metadata": {
        "id": "8sOSsdKiy7z4",
        "tags": [
          "task_6"
        ],
        "colab": {
          "base_uri": "https://localhost:8080/"
        },
        "outputId": "97d979fa-fdb0-4cd0-e13b-d3d4fde1a537"
      },
      "outputs": [
        {
          "output_type": "stream",
          "name": "stdout",
          "text": [
            "Time per 10,000 executions, secs\n",
            "Func\tCustom\tNumpy\n",
            "mean\t0.92\t0.19\n",
            "var\t17.07\t0.39\n",
            "std\t16.84\t0.42\n",
            "median\t18.12\t1.32\n"
          ]
        }
      ],
      "source": [
        "import timeit\n",
        "\n",
        "custom_mean_time = timeit.timeit('mean(li)', setup=setup, number=10_000)\n",
        "numpy_mean_time = timeit.timeit('np.mean(arr)', setup=setup, number=10_000)\n",
        "\n",
        "custom_var_time = timeit.timeit('variance(li)', setup=setup, number=10_000)\n",
        "numpy_var_time = timeit.timeit('np.var(arr)', setup=setup, number=10_000)\n",
        "\n",
        "custom_std_time = timeit.timeit('std(li)', setup=setup, number=10_000)\n",
        "numpy_std_time = timeit.timeit('np.std(arr)', setup=setup, number=10_000)\n",
        "\n",
        "custom_median_time = timeit.timeit('median(li)', setup=setup, number=10_000)\n",
        "numpy_median_time = timeit.timeit('np.median(arr)', setup=setup, number=10_000)\n",
        "\n",
        "print(\"Time per 10,000 executions, secs\")\n",
        "print(\"Func\\tCustom\\tNumpy\")\n",
        "print(f\"mean\\t{round(custom_mean_time, 2)}\\t{round(numpy_mean_time, 2)}\")\n",
        "print(f\"var\\t{round(custom_var_time, 2)}\\t{round(numpy_var_time, 2)}\")\n",
        "print(f\"std\\t{round(custom_std_time, 2)}\\t{round(numpy_std_time, 2)}\")\n",
        "print(f\"median\\t{round(custom_median_time, 2)}\\t{round(numpy_median_time, 2)}\")\n"
      ]
    },
    {
      "cell_type": "markdown",
      "metadata": {
        "id": "NbbRIcyqy7z4"
      },
      "source": [
        "Time per 10000 executions, secs\n",
        "\n",
        "| Func       | Custom | Numpy |\n",
        "| ---------- | ------ | ----- |\n",
        "| mean       |        |       |\n",
        "| var        |        |       |\n",
        "| std        |        |       |\n",
        "| median     |        |       |"
      ]
    }
  ],
  "metadata": {
    "colab": {
      "provenance": [],
      "toc_visible": true,
      "include_colab_link": true
    },
    "kernelspec": {
      "display_name": "venv",
      "language": "python",
      "name": "python3"
    },
    "language_info": {
      "codemirror_mode": {
        "name": "ipython",
        "version": 3
      },
      "file_extension": ".py",
      "mimetype": "text/x-python",
      "name": "python",
      "nbconvert_exporter": "python",
      "pygments_lexer": "ipython3",
      "version": "3.9.6"
    },
    "orig_nbformat": 4
  },
  "nbformat": 4,
  "nbformat_minor": 0
}