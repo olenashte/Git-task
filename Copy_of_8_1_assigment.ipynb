{
  "cells": [
    {
      "cell_type": "markdown",
      "metadata": {
        "id": "view-in-github",
        "colab_type": "text"
      },
      "source": [
        "<a href=\"https://colab.research.google.com/github/olenashte/Git-task/blob/master/Copy_of_8_1_assigment.ipynb\" target=\"_parent\"><img src=\"https://colab.research.google.com/assets/colab-badge.svg\" alt=\"Open In Colab\"/></a>"
      ]
    },
    {
      "cell_type": "markdown",
      "metadata": {
        "id": "2_R_Ya7UhcB8"
      },
      "source": [
        "# Assignment 8.1\n",
        "\n",
        "> Replace all TODOs with your code.\n",
        ">\n",
        "> Do not change any other code and do not add/remove cells!"
      ]
    },
    {
      "cell_type": "markdown",
      "metadata": {
        "id": "N1SWwMSshfVz"
      },
      "source": [
        "## Classes"
      ]
    },
    {
      "cell_type": "markdown",
      "metadata": {
        "id": "OY8NxJ-CiePg"
      },
      "source": [
        "### Task 1\n",
        "\n",
        "Define a Python class named `Interval` with the following specifications:\n",
        "\n",
        "1. The class should have a constructor (\\_\\_init__) that takes two parameters, start and end, and initializes the interval with these values.\n",
        "2. Ensure that both start and end are numeric (either integers or floats).\n",
        "3. Ensure that the start value is less than or equal to the end value.\n",
        "4. Provide a \\_\\_str__ method to return a string representation of the interval in the format \"[start, end]\"."
      ]
    },
    {
      "cell_type": "code",
      "execution_count": null,
      "metadata": {
        "id": "VBFmFWDXjQPT",
        "colab": {
          "base_uri": "https://localhost:8080/"
        },
        "outputId": "d98d8ec3-24f2-4d85-8808-fdb92b5f25fa"
      },
      "outputs": [
        {
          "output_type": "stream",
          "name": "stdout",
          "text": [
            "[1, 5]\n"
          ]
        }
      ],
      "source": [
        "class Interval:\n",
        "    def __init__(self, start, end):\n",
        "      if not (isinstance(start, (int, float)) and isinstance(end, (int, float))):\n",
        "            raise ValueError(\"Start and end must be numbers.\")\n",
        "\n",
        "      if start > end:\n",
        "            raise ValueError(\"Start must be less than or equal to end.\")\n",
        "\n",
        "      self.start = start\n",
        "      self.end = end\n",
        "    def __str__(self):\n",
        "      return f\"[{self.start}, {self.end}]\"\n",
        "\n",
        "interval = Interval(1, 5)\n",
        "print(interval) # [1, 5]"
      ]
    },
    {
      "cell_type": "markdown",
      "metadata": {
        "id": "pJ72CYiylhIY"
      },
      "source": [
        "### Task 2\n",
        "\n",
        "Expand the Interval class by adding a method named `is_overlapping` that checks whether the current interval overlaps with another interval. The method should take another Interval object as a parameter and return `True` if there is an overlap and `False` otherwise."
      ]
    },
    {
      "cell_type": "code",
      "execution_count": null,
      "metadata": {
        "id": "7t64cfMdl3qe",
        "colab": {
          "base_uri": "https://localhost:8080/"
        },
        "outputId": "bee9c3ae-a476-4e8b-8a24-afeee37c0c47"
      },
      "outputs": [
        {
          "output_type": "stream",
          "name": "stdout",
          "text": [
            "Do intervals overlap? True\n"
          ]
        }
      ],
      "source": [
        "class Interval:\n",
        "    def __init__(self, start, end):\n",
        "\n",
        "        if not (isinstance(start, (int, float)) and isinstance(end, (int, float))):\n",
        "            raise ValueError(\"Start and end must be numbers.\")\n",
        "\n",
        "        if start > end:\n",
        "            raise ValueError(\"Start must be less than or equal to end.\")\n",
        "\n",
        "        self.start = start\n",
        "        self.end = end\n",
        "\n",
        "    def __str__(self):\n",
        "        return f\"[{self.start}, {self.end}]\"\n",
        "\n",
        "    def is_overlapping(self, other_interval):\n",
        "        return self.start <= other_interval.end and other_interval.start <= self.end\n",
        "\n",
        "\n",
        "interval1 = Interval(1, 5)\n",
        "interval2 = Interval(3, 8)\n",
        "\n",
        "overlap_result = interval1.is_overlapping(interval2)\n",
        "print(\"Do intervals overlap?\", overlap_result)\n"
      ]
    },
    {
      "cell_type": "markdown",
      "metadata": {
        "id": "aelqtEfkni2N"
      },
      "source": [
        "### Task 3\n",
        "\n",
        "Expand the `Interval` class by adding a **static** method named `intersection_static` that calculates the intersection of two overlapping intervals. The static method should take two `Interval` objects as parameters and return a new `Interval` representing the intersection if there is one.\n",
        "\n",
        "The method should return `None` if the intervals do not overlap."
      ]
    },
    {
      "cell_type": "code",
      "execution_count": null,
      "metadata": {
        "id": "E6DNMmTRoyNa",
        "colab": {
          "base_uri": "https://localhost:8080/"
        },
        "outputId": "0d95d9eb-cf3b-43f2-ef6b-713e0bd90203"
      },
      "outputs": [
        {
          "output_type": "stream",
          "name": "stdout",
          "text": [
            "Intersection result (static method): [3, 5]\n"
          ]
        }
      ],
      "source": [
        "class Interval:\n",
        "    def __init__(self, start, end):\n",
        "\n",
        "        if not (isinstance(start, (int, float)) and isinstance(end, (int, float))):\n",
        "            raise ValueError(\"Start and end must be numbers.\")\n",
        "\n",
        "        if start > end:\n",
        "            raise ValueError(\"Start must be less than or equal to end.\")\n",
        "\n",
        "        self.start = start\n",
        "        self.end = end\n",
        "\n",
        "    def __str__(self):\n",
        "        return f\"[{self.start}, {self.end}]\"\n",
        "\n",
        "    def is_overlapping(self, other_interval):\n",
        "        return self.start <= other_interval.end and other_interval.start <= self.end\n",
        "\n",
        "\n",
        "    @staticmethod\n",
        "    def intersection_static(interval1, interval2):\n",
        "\n",
        "        if interval1.is_overlapping(interval2):\n",
        "\n",
        "            new_start = max(interval1.start, interval2.start)\n",
        "            new_end = min(interval1.end, interval2.end)\n",
        "            return Interval(new_start, new_end)\n",
        "        else:\n",
        "\n",
        "            return None\n",
        "\n",
        "interval1 = Interval(1, 5)\n",
        "interval2 = Interval(3, 8)\n",
        "\n",
        "intersection_result_static = Interval.intersection_static(interval1, interval2)\n",
        "print(\"Intersection result (static method):\", intersection_result_static)"
      ]
    },
    {
      "cell_type": "markdown",
      "metadata": {
        "id": "xGh7oQHFtsSl"
      },
      "source": [
        "### Task 4\n",
        "\n",
        "Expand the `Interval` class by overloading a math operator \"&\" to calculate the intersection of two overlapping intervals. Define the logic for the intersection using the method from the previous task."
      ]
    },
    {
      "cell_type": "code",
      "execution_count": null,
      "metadata": {
        "id": "3f3CiUlGu1cq",
        "colab": {
          "base_uri": "https://localhost:8080/"
        },
        "outputId": "ec1ebaa3-5565-41fa-861d-0390ab4e66da"
      },
      "outputs": [
        {
          "output_type": "stream",
          "name": "stdout",
          "text": [
            "Intersection result: [3, 5]\n"
          ]
        }
      ],
      "source": [
        "class Interval:\n",
        "    def __init__(self, start, end):\n",
        "\n",
        "        if not (isinstance(start, (int, float)) and isinstance(end, (int, float))):\n",
        "            raise ValueError(\"Start and end must be numbers.\")\n",
        "\n",
        "        if start > end:\n",
        "            raise ValueError(\"Start must be less than or equal to end.\")\n",
        "\n",
        "        self.start = start\n",
        "        self.end = end\n",
        "\n",
        "    def __str__(self):\n",
        "        return f\"[{self.start}, {self.end}]\"\n",
        "\n",
        "    def is_overlapping(self, other_interval):\n",
        "        return self.start <= other_interval.end and other_interval.start <= self.end\n",
        "\n",
        "\n",
        "    @staticmethod\n",
        "    def intersection_static(interval1, interval2):\n",
        "\n",
        "        if interval1.is_overlapping(interval2):\n",
        "\n",
        "            new_start = max(interval1.start, interval2.start)\n",
        "            new_end = min(interval1.end, interval2.end)\n",
        "            return Interval(new_start, new_end)\n",
        "        else:\n",
        "            return None\n",
        "    def __and__(self, other):\n",
        "\n",
        "        return Interval.intersection_static(self, other)\n",
        "\n",
        "interval1 = Interval(1, 5)\n",
        "interval2 = Interval(3, 8)\n",
        "\n",
        "intersection_result = interval1 & interval2\n",
        "print(\"Intersection result:\", intersection_result) # Intersection result: [3, 5]"
      ]
    },
    {
      "cell_type": "markdown",
      "metadata": {
        "id": "51BGij2Tvoka"
      },
      "source": [
        "### Task 5\n",
        "\n",
        "Expand the `Interval` class by adding a static method named `union_static` that calculates the union of two overlapping intervals. The static method should take two Interval objects as parameters and return a new Interval representing the union if there is one.\n",
        "\n",
        "The method should return `None` if the intervals do not overlap."
      ]
    },
    {
      "cell_type": "code",
      "execution_count": null,
      "metadata": {
        "id": "Xnm1CbK8v2v1",
        "colab": {
          "base_uri": "https://localhost:8080/"
        },
        "outputId": "22022e6d-8f57-45dc-cd75-d97a9442ed49"
      },
      "outputs": [
        {
          "output_type": "stream",
          "name": "stdout",
          "text": [
            "Union Result (Static method): [1, 8]\n"
          ]
        }
      ],
      "source": [
        "class Interval:\n",
        "    def __init__(self, start, end):\n",
        "        if not (isinstance(start, (int, float)) and isinstance(end, (int, float))):\n",
        "            raise ValueError(\"Start and end must be numbers.\")\n",
        "\n",
        "        if start > end:\n",
        "            raise ValueError(\"Start must be less than or equal to end.\")\n",
        "\n",
        "        self.start = start\n",
        "        self.end = end\n",
        "\n",
        "    def __str__(self):\n",
        "        return f\"[{self.start}, {self.end}]\"\n",
        "\n",
        "    def is_overlapping(self, other_interval):\n",
        "        return self.start <= other_interval.end and other_interval.start <= self.end\n",
        "\n",
        "    @staticmethod\n",
        "    def intersection_static(interval1, interval2):\n",
        "        if interval1.is_overlapping(interval2):\n",
        "            new_end = min(interval1.end, interval2.end)\n",
        "            return Interval(new_start, new_end)\n",
        "        else:\n",
        "            return None\n",
        "\n",
        "    @staticmethod\n",
        "    def union_static(interval1, interval2):\n",
        "        if interval1.is_overlapping(interval2):\n",
        "            new_start = min(interval1.start, interval2.start)\n",
        "            new_end = max(interval1.end, interval2.end)\n",
        "            return Interval(new_start, new_end)\n",
        "        else:\n",
        "            return None\n",
        "\n",
        "interval1 = Interval(1, 5)\n",
        "interval2 = Interval(3, 8)\n",
        "\n",
        "union_result_static = Interval.union_static(interval1, interval2)\n",
        "print(\"Union Result (Static method):\", union_result_static)\n"
      ]
    },
    {
      "cell_type": "markdown",
      "metadata": {
        "id": "5yGYlKjCwbzr"
      },
      "source": [
        "### Task 6\n",
        "\n",
        "Expand the `Interval` class by overloading a math operator \"|\" to calculate the union  of two overlapping intervals. Define the logic for the union using the method from the previous task."
      ]
    },
    {
      "cell_type": "code",
      "execution_count": null,
      "metadata": {
        "id": "xjCgPAy5wu1Z",
        "colab": {
          "base_uri": "https://localhost:8080/"
        },
        "outputId": "3d35b488-f010-4e30-b25d-fff6af7a7a99"
      },
      "outputs": [
        {
          "output_type": "stream",
          "name": "stdout",
          "text": [
            "Union Result: [1, 8]\n"
          ]
        }
      ],
      "source": [
        "class Interval:\n",
        "    def __init__(self, start, end):\n",
        "        if not (isinstance(start, (int, float)) and isinstance(end, (int, float))):\n",
        "            raise ValueError(\"Start and end must be numbers.\")\n",
        "\n",
        "        if start > end:\n",
        "            raise ValueError(\"Start must be less than or equal to end.\")\n",
        "\n",
        "        self.start = start\n",
        "        self.end = end\n",
        "\n",
        "    def __str__(self):\n",
        "        return f\"[{self.start}, {self.end}]\"\n",
        "\n",
        "    def is_overlapping(self, other_interval):\n",
        "        return self.start <= other_interval.end and other_interval.start <= self.end\n",
        "\n",
        "    @staticmethod\n",
        "    def intersection_static(interval1, interval2):\n",
        "        if interval1.is_overlapping(interval2):\n",
        "            new_end = min(interval1.end, interval2.end)\n",
        "            return Interval(new_start, new_end)\n",
        "        else:\n",
        "            return None\n",
        "\n",
        "    @staticmethod\n",
        "    def union_static(interval1, interval2):\n",
        "        if interval1.is_overlapping(interval2):\n",
        "            new_start = min(interval1.start, interval2.start)\n",
        "            new_end = max(interval1.end, interval2.end)\n",
        "            return Interval(new_start, new_end)\n",
        "        else:\n",
        "            return None\n",
        "    def __and__(self, other):\n",
        "        return Interval.intersection_static(self, other)\n",
        "\n",
        "    def __or__(self, other):\n",
        "        return Interval.union_static(self, other)\n",
        "\n",
        "\n",
        "interval1 = Interval(1, 5)\n",
        "interval2 = Interval(3, 8)\n",
        "\n",
        "union_result = interval1 | interval2\n",
        "print(\"Union Result:\", union_result) # Union Result: [1, 8]"
      ]
    },
    {
      "cell_type": "markdown",
      "metadata": {
        "id": "N-hiSBEK0fbz"
      },
      "source": [
        "### Task 7 (optional)\n",
        "\n",
        "Expand the `Interval` class by overloading the \"-\" operator to calculate the difference between two intervals. The method should return a new `Interval` representing the portion of the first interval that is not in the second."
      ]
    },
    {
      "cell_type": "code",
      "execution_count": null,
      "metadata": {
        "id": "YZ5AqAXr002L",
        "colab": {
          "base_uri": "https://localhost:8080/"
        },
        "outputId": "cfb5a033-f616-43a9-9bb3-6f5d92fd6391"
      },
      "outputs": [
        {
          "output_type": "stream",
          "name": "stdout",
          "text": [
            "Difference Result: [1, 2]\n",
            "Difference Result: [6, 8]\n"
          ]
        }
      ],
      "source": [
        "class Interval:\n",
        "    def __init__(self, start, end):\n",
        "        if not (isinstance(start, (int, float)) and isinstance(end, (int, float))):\n",
        "            raise ValueError(\"Start and end must be numbers.\")\n",
        "\n",
        "        if start > end:\n",
        "            raise ValueError(\"Start must be less than or equal to end.\")\n",
        "\n",
        "        self.start = start\n",
        "        self.end = end\n",
        "\n",
        "    def __str__(self):\n",
        "        return f\"[{self.start}, {self.end}]\"\n",
        "\n",
        "    def is_overlapping(self, other_interval):\n",
        "        return self.start <= other_interval.end and other_interval.start <= self.end\n",
        "\n",
        "    @staticmethod\n",
        "    def intersection_static(interval1, interval2):\n",
        "        if interval1.is_overlapping(interval2):\n",
        "            new_end = min(interval1.end, interval2.end)\n",
        "            return Interval(new_start, new_end)\n",
        "        else:\n",
        "            return None\n",
        "\n",
        "    @staticmethod\n",
        "    def union_static(interval1, interval2):\n",
        "        if interval1.is_overlapping(interval2):\n",
        "            new_start = min(interval1.start, interval2.start)\n",
        "            new_end = max(interval1.end, interval2.end)\n",
        "            return Interval(new_start, new_end)\n",
        "        else:\n",
        "            return None\n",
        "    def __and__(self, other):\n",
        "        return Interval.intersection_static(self, other)\n",
        "\n",
        "    def __or__(self, other):\n",
        "        return Interval.union_static(self, other)\n",
        "\n",
        "    def __sub__(self, other):\n",
        "        if not self.is_overlapping(other):\n",
        "            return self\n",
        "        else:\n",
        "            if other.start <= self.start and other.end >= self.end:\n",
        "                return None\n",
        "            elif other.start > self.start and other.end < self.end:\n",
        "                return Interval(self.start, other.start - 1)\n",
        "            elif other.start <= self.start:\n",
        "                return Interval(other.end + 1, self.end)\n",
        "            else:\n",
        "                return Interval(self.start, other.start - 1)\n",
        "\n",
        "\n",
        "\n",
        "interval1 = Interval(1, 5)\n",
        "interval2 = Interval(3, 8)\n",
        "\n",
        "print(\"Difference Result:\", interval1 - interval2) # Union Result: [1, 2]\n",
        "print(\"Difference Result:\", interval2 - interval1) # Union Result: [6, 8]"
      ]
    }
  ],
  "metadata": {
    "colab": {
      "provenance": [],
      "toc_visible": true,
      "include_colab_link": true
    },
    "kernelspec": {
      "display_name": "Python 3",
      "name": "python3"
    },
    "language_info": {
      "name": "python"
    }
  },
  "nbformat": 4,
  "nbformat_minor": 0
}