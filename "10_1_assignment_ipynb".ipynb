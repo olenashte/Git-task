{
  "cells": [
    {
      "cell_type": "markdown",
      "metadata": {
        "id": "view-in-github",
        "colab_type": "text"
      },
      "source": [
        "<a href=\"https://colab.research.google.com/github/olenashte/Git-task/blob/master/%2210_1_assignment_ipynb%22.ipynb\" target=\"_parent\"><img src=\"https://colab.research.google.com/assets/colab-badge.svg\" alt=\"Open In Colab\"/></a>"
      ]
    },
    {
      "cell_type": "markdown",
      "metadata": {
        "id": "oY7M_WqQy7zz"
      },
      "source": [
        "# Assignment 10.1\n",
        "\n",
        "> Replace all TODOs with your code. Do not change any other code."
      ]
    },
    {
      "cell_type": "code",
      "execution_count": 2,
      "metadata": {
        "id": "VCyU26bX_w89"
      },
      "outputs": [],
      "source": [
        "# Do not edit this cell\n",
        "\n",
        "import unittest\n",
        "import requests"
      ]
    },
    {
      "cell_type": "markdown",
      "metadata": {
        "id": "Jz8SYjAz0N8D"
      },
      "source": [
        "## Testing"
      ]
    },
    {
      "cell_type": "markdown",
      "metadata": {
        "id": "IHwd1Zzby7z1"
      },
      "source": [
        "### Task 1\n",
        "\n",
        "Let's consider the following function `calculate_average`:\n"
      ]
    },
    {
      "cell_type": "code",
      "execution_count": 3,
      "metadata": {
        "tags": [
          "task_1a"
        ],
        "id": "SH_LsE-E_w9E"
      },
      "outputs": [],
      "source": [
        "def calculate_average(numbers):\n",
        "    if not numbers:  # Check if the list is empty\n",
        "        raise ValueError(\"The list of numbers is empty\")\n",
        "    return sum(numbers) / len(numbers)\n"
      ]
    },
    {
      "cell_type": "markdown",
      "metadata": {
        "id": "kJ1fZtLM_w9F"
      },
      "source": [
        "Now, write tests for several cases:\n",
        "- A simple case when the result is a whole number\n",
        "- In cases where the result is decimal, how do you compare them?\n",
        "- Case when the list is empty - what happens? Is `ZeroDivisionError` really what we want here? Let's change the implementation to raise `ValueError`."
      ]
    },
    {
      "cell_type": "code",
      "execution_count": 4,
      "metadata": {
        "tags": [
          "task_1b"
        ],
        "id": "3S7nxpTx_w9G",
        "colab": {
          "base_uri": "https://localhost:8080/"
        },
        "outputId": "140a1684-e5bd-4aa4-c802-c2285d049ae1"
      },
      "outputs": [
        {
          "output_type": "stream",
          "name": "stderr",
          "text": [
            "...\n",
            "----------------------------------------------------------------------\n",
            "Ran 3 tests in 0.009s\n",
            "\n",
            "OK\n"
          ]
        },
        {
          "output_type": "execute_result",
          "data": {
            "text/plain": [
              "<unittest.main.TestProgram at 0x7a0df4037490>"
            ]
          },
          "metadata": {},
          "execution_count": 4
        }
      ],
      "source": [
        "class TestCalculateAverage(unittest.TestCase):\n",
        "\n",
        "    def test_calculate_average_whole(self):\n",
        "        \"\"\"Test case where the result is a whole number.\"\"\"\n",
        "        self.assertEqual(calculate_average([2, 4, 6]), 4)\n",
        "\n",
        "    def test_calculate_average_decimal(self):\n",
        "        \"\"\"Test case where the result is a decimal number.\"\"\"\n",
        "        result = calculate_average([1, 2, 3])\n",
        "        self.assertAlmostEqual(result, 2.0, places=5)\n",
        "\n",
        "    def test_calculate_average_empty(self):\n",
        "        \"\"\"Test case where the list is empty.\"\"\"\n",
        "        with self.assertRaises(ValueError) as context:\n",
        "            calculate_average([])\n",
        "        self.assertEqual(str(context.exception), \"The list of numbers is empty\")\n",
        "\n",
        "unittest.main(argv=[''], exit=False)"
      ]
    },
    {
      "cell_type": "markdown",
      "metadata": {
        "id": "lL-ELM-Ay7z2"
      },
      "source": [
        "### Task 2\n",
        "\n",
        "Let's consider function `get_weather`. It makes an external request to get the weather in a given city. Obviously, the weather constantly changes, so we cannot rely on it in our tests.\n",
        "\n",
        "Let's write a test replacing the real request with a mock. Check that the request was called with the correct city."
      ]
    },
    {
      "cell_type": "code",
      "execution_count": 5,
      "metadata": {
        "id": "cibiSsjry7z3",
        "tags": [
          "task_2a"
        ]
      },
      "outputs": [],
      "source": [
        "def get_weather(city):\n",
        "    try:\n",
        "        response = requests.get(f\"https://api.weather.com/v1/weather?q={city}\")\n",
        "        if response.status_code == 200:\n",
        "            return response.json()\n",
        "        else:\n",
        "            return None\n",
        "    except requests.exceptions.RequestException:\n",
        "        return None\n"
      ]
    },
    {
      "cell_type": "code",
      "execution_count": 8,
      "metadata": {
        "tags": [
          "task_2b"
        ],
        "id": "Nc9vokJu_w9K",
        "colab": {
          "base_uri": "https://localhost:8080/"
        },
        "outputId": "f82d840f-1c24-422a-aa30-d433b2c04a9b"
      },
      "outputs": [
        {
          "output_type": "stream",
          "name": "stderr",
          "text": [
            "....\n",
            "----------------------------------------------------------------------\n",
            "Ran 4 tests in 0.008s\n",
            "\n",
            "OK\n"
          ]
        },
        {
          "output_type": "execute_result",
          "data": {
            "text/plain": [
              "<unittest.main.TestProgram at 0x7a0df4037460>"
            ]
          },
          "metadata": {},
          "execution_count": 8
        }
      ],
      "source": [
        "class TestGetWeather(unittest.TestCase):\n",
        "    def test_get_weather_request_made(self):\n",
        "        \"\"\"Test that the request is made with the correct city.\"\"\"\n",
        "        original_get = requests.get\n",
        "\n",
        "        def mock_get(url):\n",
        "            self.assertEqual(url, \"https://api.weather.com/v1/weather?q=London\")\n",
        "\n",
        "            class MockResponse:\n",
        "                status_code = 200\n",
        "\n",
        "                @staticmethod\n",
        "                def json():\n",
        "                    return {\"weather\": \"sunny\"}\n",
        "\n",
        "            return MockResponse()\n",
        "\n",
        "        requests.get = mock_get\n",
        "\n",
        "        city = \"London\"\n",
        "        result = get_weather(city)\n",
        "\n",
        "        self.assertEqual(result, {\"weather\": \"sunny\"})\n",
        "\n",
        "        requests.get = original_get\n",
        "\n",
        "# To run the tests:\n",
        "unittest.main(argv=[''], exit=False)\n"
      ]
    }
  ],
  "metadata": {
    "colab": {
      "provenance": [],
      "toc_visible": true,
      "include_colab_link": true
    },
    "kernelspec": {
      "display_name": "venv",
      "language": "python",
      "name": "python3"
    },
    "language_info": {
      "codemirror_mode": {
        "name": "ipython",
        "version": 3
      },
      "file_extension": ".py",
      "mimetype": "text/x-python",
      "name": "python",
      "nbconvert_exporter": "python",
      "pygments_lexer": "ipython3",
      "version": "3.11.5"
    },
    "orig_nbformat": 4
  },
  "nbformat": 4,
  "nbformat_minor": 0
}